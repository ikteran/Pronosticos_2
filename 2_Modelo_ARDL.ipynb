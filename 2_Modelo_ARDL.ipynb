{
 "cells": [
  {
   "cell_type": "markdown",
   "id": "502fa849-0199-4305-8880-63ec0e721a97",
   "metadata": {},
   "source": [
    "# Modelo ARDL"
   ]
  },
  {
   "cell_type": "markdown",
   "id": "18360da2-4e67-4b97-bda8-149b32b9f44c",
   "metadata": {},
   "source": [
    "###  Importacion de librerías requeridas"
   ]
  },
  {
   "cell_type": "code",
   "execution_count": 14,
   "id": "4bcc9707-7ee2-490c-b87b-819494b69b2d",
   "metadata": {
    "collapsed": true,
    "jupyter": {
     "outputs_hidden": true
    }
   },
   "outputs": [
    {
     "name": "stderr",
     "output_type": "stream",
     "text": [
      "\n",
      "Adjuntando el paquete: 'dbplyr'\n",
      "\n",
      "\n",
      "The following objects are masked from 'package:dplyr':\n",
      "\n",
      "    ident, sql\n",
      "\n",
      "\n"
     ]
    }
   ],
   "source": [
    "### Para el modelado\n",
    "library(ARDL)\n",
    "\n",
    "#Otros de manipulación de datos\n",
    "library(forecast)\n",
    "library(tseries)\n",
    "library(tidyverse)\n",
    "library(urca)\n",
    "library(quantmod)\n",
    "library(TSstudio)\n",
    "library(dygraphs)\n",
    "library(fUnitRoots)\n",
    "library(dbplyr)\n",
    "theme_set(theme_bw())\n",
    "options(warn = - 1) "
   ]
  },
  {
   "cell_type": "markdown",
   "id": "1f63fa0c-6378-482f-a6d3-d99b662f10cc",
   "metadata": {},
   "source": [
    "###  Importación de datos"
   ]
  },
  {
   "cell_type": "code",
   "execution_count": 5,
   "id": "9c488fe4-3512-4381-8594-844c849f341f",
   "metadata": {},
   "outputs": [],
   "source": [
    "### Descargar datos\n",
    "start<-format(as.Date(\"2019-04-22\"),\"%Y-%m-%d\")\n",
    "end<-format(as.Date(\"2022-12-31\"),\"%Y-%m-%d\")\n",
    "\n",
    "##---------Obtener precios de yahoo finance:\n",
    "precios <-function(simbolo)\n",
    "{\n",
    "  datos <- getSymbols(simbolo, auto.assign = FALSE, from=start, to=end)\n",
    "  datos<-na.omit(datos)\n",
    "  datos <- datos[,4]\n",
    "  assign(simbolo, datos, envir = .GlobalEnv)\n",
    "}"
   ]
  },
  {
   "cell_type": "code",
   "execution_count": 8,
   "id": "e9528b1d-77f4-4739-b9e6-4105e4046c9d",
   "metadata": {},
   "outputs": [],
   "source": [
    "# Llamar la función para el activo en particular\n",
    "precios(\"RYLD\")\n",
    "precios(\"TSLA\")\n",
    "precios(\"TM\")\n",
    "precios(\"GM\")\n",
    "s1= `RYLD`\n",
    "s2=`TSLA`\n",
    "i3=`TM`\n",
    "i4=`GM`"
   ]
  },
  {
   "cell_type": "code",
   "execution_count": 9,
   "id": "95ce3a0c-74e7-4845-918b-ba14caef0ad0",
   "metadata": {},
   "outputs": [
    {
     "data": {
      "text/html": [
       "933"
      ],
      "text/latex": [
       "933"
      ],
      "text/markdown": [
       "933"
      ],
      "text/plain": [
       "[1] 933"
      ]
     },
     "metadata": {},
     "output_type": "display_data"
    },
    {
     "data": {
      "text/html": [
       "933"
      ],
      "text/latex": [
       "933"
      ],
      "text/markdown": [
       "933"
      ],
      "text/plain": [
       "[1] 933"
      ]
     },
     "metadata": {},
     "output_type": "display_data"
    },
    {
     "data": {
      "text/html": [
       "933"
      ],
      "text/latex": [
       "933"
      ],
      "text/markdown": [
       "933"
      ],
      "text/plain": [
       "[1] 933"
      ]
     },
     "metadata": {},
     "output_type": "display_data"
    },
    {
     "data": {
      "text/html": [
       "933"
      ],
      "text/latex": [
       "933"
      ],
      "text/markdown": [
       "933"
      ],
      "text/plain": [
       "[1] 933"
      ]
     },
     "metadata": {},
     "output_type": "display_data"
    },
    {
     "name": "stdout",
     "output_type": "stream",
     "text": [
      "An xts object on 2019-04-22 / 2022-12-30 containing: \n",
      "  Data:    double [933, 4]\n",
      "  Columns: RYLD, TSLA, TM, GM\n",
      "  Index:   Date [933] (TZ: \"UTC\")\n",
      "  xts Attributes:\n",
      "    $ src    : chr \"yahoo\"\n",
      "    $ updated: POSIXct[1:1], format: \"2025-05-22 21:11:16\"\n"
     ]
    }
   ],
   "source": [
    "length(s1)\n",
    "length(s2)\n",
    "length(i3)\n",
    "length(i4)\n",
    "datos <- merge.xts(s1, s2, i3, i4, join = \"inner\") %>% na.omit()\n",
    "colnames(datos) <- c(\"RYLD\", \"TSLA\", \"TM\", \"GM\")\n",
    "str(datos)"
   ]
  },
  {
   "cell_type": "markdown",
   "id": "2e7e752a-cdc9-406d-81e5-a86509059417",
   "metadata": {},
   "source": [
    "### Partición de los datos"
   ]
  },
  {
   "cell_type": "code",
   "execution_count": 17,
   "id": "5e37540e-ff96-4f22-acd2-e33b9c1538f1",
   "metadata": {},
   "outputs": [
    {
     "data": {
      "text/html": [
       "47"
      ],
      "text/latex": [
       "47"
      ],
      "text/markdown": [
       "47"
      ],
      "text/plain": [
       "[1] 47"
      ]
     },
     "metadata": {},
     "output_type": "display_data"
    },
    {
     "data": {
      "text/html": [
       "886"
      ],
      "text/latex": [
       "886"
      ],
      "text/markdown": [
       "886"
      ],
      "text/plain": [
       "[1] 886"
      ]
     },
     "metadata": {},
     "output_type": "display_data"
    }
   ],
   "source": [
    "n <- nrow(datos)\n",
    "n_test <- 47 #Equivalente al 5%\n",
    "n_test\n",
    "n_train <- n - n_test\n",
    "n_train\n",
    "\n",
    "train <- datos[1:n_train, ]\n",
    "test <- datos[(n_train + 1):n, ]"
   ]
  },
  {
   "cell_type": "markdown",
   "id": "1233b026-adc4-4fda-b1cb-347f9a961e1b",
   "metadata": {},
   "source": [
    "### Prueba de estacionariedad"
   ]
  },
  {
   "cell_type": "code",
   "execution_count": 13,
   "id": "37085398-cf35-47d8-9a82-9cf449a0efcd",
   "metadata": {},
   "outputs": [
    {
     "data": {
      "text/plain": [
       "\n",
       "\tAugmented Dickey-Fuller Test\n",
       "\n",
       "data:  s1\n",
       "Dickey-Fuller = -1.9681, Lag order = 9, p-value = 0.5918\n",
       "alternative hypothesis: stationary\n"
      ]
     },
     "metadata": {},
     "output_type": "display_data"
    },
    {
     "data": {
      "text/plain": [
       "\n",
       "\tAugmented Dickey-Fuller Test\n",
       "\n",
       "data:  s2\n",
       "Dickey-Fuller = -0.82177, Lag order = 9, p-value = 0.9597\n",
       "alternative hypothesis: stationary\n"
      ]
     },
     "metadata": {},
     "output_type": "display_data"
    },
    {
     "data": {
      "text/plain": [
       "\n",
       "\tAugmented Dickey-Fuller Test\n",
       "\n",
       "data:  i3\n",
       "Dickey-Fuller = -1.3187, Lag order = 9, p-value = 0.8667\n",
       "alternative hypothesis: stationary\n"
      ]
     },
     "metadata": {},
     "output_type": "display_data"
    },
    {
     "data": {
      "text/plain": [
       "\n",
       "\tAugmented Dickey-Fuller Test\n",
       "\n",
       "data:  i4\n",
       "Dickey-Fuller = -1.3763, Lag order = 9, p-value = 0.8423\n",
       "alternative hypothesis: stationary\n"
      ]
     },
     "metadata": {},
     "output_type": "display_data"
    }
   ],
   "source": [
    "adf.test(s1)\n",
    "adf.test(s2)\n",
    "adf.test(i3)\n",
    "adf.test(i4)"
   ]
  },
  {
   "cell_type": "markdown",
   "id": "36057d34-6f81-4f74-9a62-c62f805e5368",
   "metadata": {},
   "source": [
    "Las series no son estacionarias, por lo que se aplica diferenciación."
   ]
  },
  {
   "cell_type": "code",
   "execution_count": 15,
   "id": "c1c4a8ac-6621-4bd8-9117-b8655ac984ef",
   "metadata": {},
   "outputs": [
    {
     "data": {
      "text/plain": [
       "\n",
       "\tAugmented Dickey-Fuller Test\n",
       "\n",
       "data:  diff(s1) %>% na.omit()\n",
       "Dickey-Fuller = -8.0814, Lag order = 9, p-value = 0.01\n",
       "alternative hypothesis: stationary\n"
      ]
     },
     "metadata": {},
     "output_type": "display_data"
    },
    {
     "data": {
      "text/plain": [
       "\n",
       "\tAugmented Dickey-Fuller Test\n",
       "\n",
       "data:  diff(s2) %>% na.omit()\n",
       "Dickey-Fuller = -9.2478, Lag order = 9, p-value = 0.01\n",
       "alternative hypothesis: stationary\n"
      ]
     },
     "metadata": {},
     "output_type": "display_data"
    },
    {
     "data": {
      "text/plain": [
       "\n",
       "\tAugmented Dickey-Fuller Test\n",
       "\n",
       "data:  diff(i3) %>% na.omit()\n",
       "Dickey-Fuller = -10.768, Lag order = 9, p-value = 0.01\n",
       "alternative hypothesis: stationary\n"
      ]
     },
     "metadata": {},
     "output_type": "display_data"
    },
    {
     "data": {
      "text/plain": [
       "\n",
       "\tAugmented Dickey-Fuller Test\n",
       "\n",
       "data:  diff(i4) %>% na.omit()\n",
       "Dickey-Fuller = -9.895, Lag order = 9, p-value = 0.01\n",
       "alternative hypothesis: stationary\n"
      ]
     },
     "metadata": {},
     "output_type": "display_data"
    }
   ],
   "source": [
    "adf.test(diff(s1)%>%na.omit())\n",
    "adf.test(diff(s2)%>%na.omit())\n",
    "adf.test(diff(i3)%>%na.omit())\n",
    "adf.test(diff(i4)%>%na.omit())"
   ]
  },
  {
   "cell_type": "markdown",
   "id": "403b889f-499a-47cb-8f77-a04e2c7c5c49",
   "metadata": {},
   "source": [
    "Como se observa, las series son I(1), por lo que ARDL aplica."
   ]
  },
  {
   "cell_type": "markdown",
   "id": "d3c6ae79-5182-4bcb-be1f-1ad2d0168044",
   "metadata": {},
   "source": [
    "## Modelo ARDL"
   ]
  },
  {
   "cell_type": "code",
   "execution_count": 36,
   "id": "b0cb77a0-cc9a-424f-acbd-24aaab1cdb61",
   "metadata": {},
   "outputs": [],
   "source": [
    "#Comenzamos diferenciando los activos para luego, unirlos.\n",
    "ryld.d=diff.xts(s1$RYLD.Close)[-1,]\n",
    "tsla.d=diff.xts(s2$TSLA.Close)[-1,]\n",
    "tm.d= diff.xts(i3$TM.Close)[-1,]\n",
    "gm.d= diff.xts(i4$GM.Close)[-1,]"
   ]
  },
  {
   "cell_type": "code",
   "execution_count": 45,
   "id": "f29cc51e-81ab-4005-90a9-b41b0f7cc397",
   "metadata": {},
   "outputs": [],
   "source": [
    "data_dif <- na.omit(merge(ryld.d, tsla.d, tm.d, gm.d))\n",
    "colnames(data_dif) <- c(\"RYLD\", \"TSLA\", \"TM\", \"GM\")"
   ]
  },
  {
   "cell_type": "markdown",
   "id": "306ba3e2-52b2-4a2b-9557-bac52389509c",
   "metadata": {},
   "source": [
    "#### Partición de los datos diferenciados"
   ]
  },
  {
   "cell_type": "code",
   "execution_count": 46,
   "id": "4887d788-2374-4da8-9e5b-457a9d348049",
   "metadata": {},
   "outputs": [],
   "source": [
    "n <- nrow(data_dif)\n",
    "n_test <- 47\n",
    "n_train <- n - n_test\n",
    "\n",
    "train_dif <- data_dif[1:n_train, ]\n",
    "test_dif <- data_dif[(n_train + 1):n, ]"
   ]
  },
  {
   "cell_type": "code",
   "execution_count": 49,
   "id": "c0f8caf6-a520-44bc-8974-9e84ea196a04",
   "metadata": {},
   "outputs": [],
   "source": [
    "train_df <- data.frame(\n",
    "  DATE = index(train_dif), \n",
    "  coredata(train_dif)\n",
    ")"
   ]
  },
  {
   "cell_type": "code",
   "execution_count": 50,
   "id": "f48e5d9e-ebbc-48e7-8a91-92c4c833ac2e",
   "metadata": {},
   "outputs": [
    {
     "data": {
      "text/html": [
       "<style>\n",
       ".list-inline {list-style: none; margin:0; padding: 0}\n",
       ".list-inline>li {display: inline-block}\n",
       ".list-inline>li:not(:last-child)::after {content: \"\\00b7\"; padding: 0 .5ex}\n",
       "</style>\n",
       "<ol class=list-inline><li>'DATE'</li><li>'RYLD'</li><li>'TSLA'</li><li>'TM'</li><li>'GM'</li></ol>\n"
      ],
      "text/latex": [
       "\\begin{enumerate*}\n",
       "\\item 'DATE'\n",
       "\\item 'RYLD'\n",
       "\\item 'TSLA'\n",
       "\\item 'TM'\n",
       "\\item 'GM'\n",
       "\\end{enumerate*}\n"
      ],
      "text/markdown": [
       "1. 'DATE'\n",
       "2. 'RYLD'\n",
       "3. 'TSLA'\n",
       "4. 'TM'\n",
       "5. 'GM'\n",
       "\n",
       "\n"
      ],
      "text/plain": [
       "[1] \"DATE\" \"RYLD\" \"TSLA\" \"TM\"   \"GM\"  "
      ]
     },
     "metadata": {},
     "output_type": "display_data"
    }
   ],
   "source": [
    "colnames(train_df)"
   ]
  },
  {
   "cell_type": "markdown",
   "id": "1fd865a0-bf37-4e30-a55e-8e0a64e74190",
   "metadata": {},
   "source": [
    "#### Modelo"
   ]
  },
  {
   "cell_type": "code",
   "execution_count": 51,
   "id": "1fce0ae7-b338-4f5b-b701-cdac443aec59",
   "metadata": {},
   "outputs": [],
   "source": [
    "#Se realiza una búsqueda tipo grid search:\n",
    "#Selección automatica:\n",
    "models <- auto_ardl(RYLD ~ TSLA + TM + GM, data = train_df, max_order = 6) #Usualmente el máx order es 6"
   ]
  },
  {
   "cell_type": "code",
   "execution_count": 52,
   "id": "9a548c3d-93ad-4d13-8700-59811b945ba0",
   "metadata": {},
   "outputs": [
    {
     "data": {
      "text/html": [
       "<table class=\"dataframe\">\n",
       "<caption>A data.frame: 20 × 5</caption>\n",
       "<thead>\n",
       "\t<tr><th scope=col>RYLD</th><th scope=col>TSLA</th><th scope=col>TM</th><th scope=col>GM</th><th scope=col>AIC</th></tr>\n",
       "\t<tr><th scope=col>&lt;dbl&gt;</th><th scope=col>&lt;dbl&gt;</th><th scope=col>&lt;dbl&gt;</th><th scope=col>&lt;dbl&gt;</th><th scope=col>&lt;dbl&gt;</th></tr>\n",
       "</thead>\n",
       "<tbody>\n",
       "\t<tr><td>2</td><td>0</td><td>0</td><td>2</td><td>-303.6096</td></tr>\n",
       "\t<tr><td>2</td><td>0</td><td>1</td><td>2</td><td>-301.7375</td></tr>\n",
       "\t<tr><td>2</td><td>0</td><td>0</td><td>3</td><td>-301.1561</td></tr>\n",
       "\t<tr><td>3</td><td>0</td><td>0</td><td>2</td><td>-300.4202</td></tr>\n",
       "\t<tr><td>2</td><td>1</td><td>1</td><td>2</td><td>-300.1354</td></tr>\n",
       "\t<tr><td>3</td><td>0</td><td>0</td><td>3</td><td>-299.1801</td></tr>\n",
       "\t<tr><td>3</td><td>0</td><td>1</td><td>2</td><td>-298.5569</td></tr>\n",
       "\t<tr><td>2</td><td>1</td><td>2</td><td>2</td><td>-298.5564</td></tr>\n",
       "\t<tr><td>2</td><td>2</td><td>2</td><td>2</td><td>-298.4703</td></tr>\n",
       "\t<tr><td>2</td><td>1</td><td>1</td><td>3</td><td>-297.6294</td></tr>\n",
       "\t<tr><td>3</td><td>1</td><td>1</td><td>2</td><td>-296.9600</td></tr>\n",
       "\t<tr><td>5</td><td>4</td><td>0</td><td>6</td><td>-296.0166</td></tr>\n",
       "\t<tr><td>4</td><td>4</td><td>0</td><td>4</td><td>-295.7769</td></tr>\n",
       "\t<tr><td>3</td><td>1</td><td>1</td><td>3</td><td>-295.6444</td></tr>\n",
       "\t<tr><td>4</td><td>4</td><td>0</td><td>3</td><td>-295.5320</td></tr>\n",
       "\t<tr><td>3</td><td>1</td><td>2</td><td>2</td><td>-295.3599</td></tr>\n",
       "\t<tr><td>3</td><td>2</td><td>2</td><td>2</td><td>-295.2311</td></tr>\n",
       "\t<tr><td>5</td><td>5</td><td>0</td><td>6</td><td>-294.3525</td></tr>\n",
       "\t<tr><td>3</td><td>2</td><td>2</td><td>3</td><td>-294.1148</td></tr>\n",
       "\t<tr><td>5</td><td>4</td><td>1</td><td>6</td><td>-294.0280</td></tr>\n",
       "</tbody>\n",
       "</table>\n"
      ],
      "text/latex": [
       "A data.frame: 20 × 5\n",
       "\\begin{tabular}{lllll}\n",
       " RYLD & TSLA & TM & GM & AIC\\\\\n",
       " <dbl> & <dbl> & <dbl> & <dbl> & <dbl>\\\\\n",
       "\\hline\n",
       "\t 2 & 0 & 0 & 2 & -303.6096\\\\\n",
       "\t 2 & 0 & 1 & 2 & -301.7375\\\\\n",
       "\t 2 & 0 & 0 & 3 & -301.1561\\\\\n",
       "\t 3 & 0 & 0 & 2 & -300.4202\\\\\n",
       "\t 2 & 1 & 1 & 2 & -300.1354\\\\\n",
       "\t 3 & 0 & 0 & 3 & -299.1801\\\\\n",
       "\t 3 & 0 & 1 & 2 & -298.5569\\\\\n",
       "\t 2 & 1 & 2 & 2 & -298.5564\\\\\n",
       "\t 2 & 2 & 2 & 2 & -298.4703\\\\\n",
       "\t 2 & 1 & 1 & 3 & -297.6294\\\\\n",
       "\t 3 & 1 & 1 & 2 & -296.9600\\\\\n",
       "\t 5 & 4 & 0 & 6 & -296.0166\\\\\n",
       "\t 4 & 4 & 0 & 4 & -295.7769\\\\\n",
       "\t 3 & 1 & 1 & 3 & -295.6444\\\\\n",
       "\t 4 & 4 & 0 & 3 & -295.5320\\\\\n",
       "\t 3 & 1 & 2 & 2 & -295.3599\\\\\n",
       "\t 3 & 2 & 2 & 2 & -295.2311\\\\\n",
       "\t 5 & 5 & 0 & 6 & -294.3525\\\\\n",
       "\t 3 & 2 & 2 & 3 & -294.1148\\\\\n",
       "\t 5 & 4 & 1 & 6 & -294.0280\\\\\n",
       "\\end{tabular}\n"
      ],
      "text/markdown": [
       "\n",
       "A data.frame: 20 × 5\n",
       "\n",
       "| RYLD &lt;dbl&gt; | TSLA &lt;dbl&gt; | TM &lt;dbl&gt; | GM &lt;dbl&gt; | AIC &lt;dbl&gt; |\n",
       "|---|---|---|---|---|\n",
       "| 2 | 0 | 0 | 2 | -303.6096 |\n",
       "| 2 | 0 | 1 | 2 | -301.7375 |\n",
       "| 2 | 0 | 0 | 3 | -301.1561 |\n",
       "| 3 | 0 | 0 | 2 | -300.4202 |\n",
       "| 2 | 1 | 1 | 2 | -300.1354 |\n",
       "| 3 | 0 | 0 | 3 | -299.1801 |\n",
       "| 3 | 0 | 1 | 2 | -298.5569 |\n",
       "| 2 | 1 | 2 | 2 | -298.5564 |\n",
       "| 2 | 2 | 2 | 2 | -298.4703 |\n",
       "| 2 | 1 | 1 | 3 | -297.6294 |\n",
       "| 3 | 1 | 1 | 2 | -296.9600 |\n",
       "| 5 | 4 | 0 | 6 | -296.0166 |\n",
       "| 4 | 4 | 0 | 4 | -295.7769 |\n",
       "| 3 | 1 | 1 | 3 | -295.6444 |\n",
       "| 4 | 4 | 0 | 3 | -295.5320 |\n",
       "| 3 | 1 | 2 | 2 | -295.3599 |\n",
       "| 3 | 2 | 2 | 2 | -295.2311 |\n",
       "| 5 | 5 | 0 | 6 | -294.3525 |\n",
       "| 3 | 2 | 2 | 3 | -294.1148 |\n",
       "| 5 | 4 | 1 | 6 | -294.0280 |\n",
       "\n"
      ],
      "text/plain": [
       "   RYLD TSLA TM GM AIC      \n",
       "1  2    0    0  2  -303.6096\n",
       "2  2    0    1  2  -301.7375\n",
       "3  2    0    0  3  -301.1561\n",
       "4  3    0    0  2  -300.4202\n",
       "5  2    1    1  2  -300.1354\n",
       "6  3    0    0  3  -299.1801\n",
       "7  3    0    1  2  -298.5569\n",
       "8  2    1    2  2  -298.5564\n",
       "9  2    2    2  2  -298.4703\n",
       "10 2    1    1  3  -297.6294\n",
       "11 3    1    1  2  -296.9600\n",
       "12 5    4    0  6  -296.0166\n",
       "13 4    4    0  4  -295.7769\n",
       "14 3    1    1  3  -295.6444\n",
       "15 4    4    0  3  -295.5320\n",
       "16 3    1    2  2  -295.3599\n",
       "17 3    2    2  2  -295.2311\n",
       "18 5    5    0  6  -294.3525\n",
       "19 3    2    2  3  -294.1148\n",
       "20 5    4    1  6  -294.0280"
      ]
     },
     "metadata": {},
     "output_type": "display_data"
    }
   ],
   "source": [
    "#Revisemos el top 20 de los mejores modelos según su critrio de información de Akaike\n",
    "models$top_orders"
   ]
  },
  {
   "cell_type": "markdown",
   "id": "5e3b36ee-5290-4c9e-909a-5205529e05ab",
   "metadata": {},
   "source": [
    "El mejor modelo es ARDL(2,0,0,2). El autorregresivo de RYLD es 2 (esto implica que RYLD depende significativamente de sus propios dos rezagos), TSLA y TM no explican ningun rezago de RYLD, y GM explica a RYLD hasta con su rezago 2."
   ]
  },
  {
   "cell_type": "code",
   "execution_count": 55,
   "id": "731ad1ab-8439-46ab-a73b-7e90808e6142",
   "metadata": {},
   "outputs": [
    {
     "data": {
      "text/plain": [
       "\n",
       "Time series regression with \"ts\" data:\n",
       "Start = 3, End = 885\n",
       "\n",
       "Call:\n",
       "dynlm::dynlm(formula = full_formula, data = data, start = start, \n",
       "    end = end)\n",
       "\n",
       "Residuals:\n",
       "     Min       1Q   Median       3Q      Max \n",
       "-1.65417 -0.09652  0.01250  0.11147  0.81151 \n",
       "\n",
       "Coefficients:\n",
       "              Estimate Std. Error t value Pr(>|t|)    \n",
       "(Intercept) -0.0075646  0.0068274  -1.108  0.26818    \n",
       "L(RYLD, 1)  -0.1215229  0.0308313  -3.942 8.74e-05 ***\n",
       "L(RYLD, 2)   0.2174582  0.0307167   7.079 2.97e-12 ***\n",
       "TSLA         0.0064068  0.0008919   7.184 1.45e-12 ***\n",
       "TM           0.0277027  0.0034832   7.953 5.60e-15 ***\n",
       "GM           0.0922961  0.0074005  12.472  < 2e-16 ***\n",
       "L(GM, 1)     0.0136510  0.0075680   1.804  0.07161 .  \n",
       "L(GM, 2)    -0.0212420  0.0075720  -2.805  0.00514 ** \n",
       "---\n",
       "Signif. codes:  0 '***' 0.001 '**' 0.01 '*' 0.05 '.' 0.1 ' ' 1\n",
       "\n",
       "Residual standard error: 0.2026 on 875 degrees of freedom\n",
       "Multiple R-squared:  0.4551,\tAdjusted R-squared:  0.4508 \n",
       "F-statistic: 104.4 on 7 and 875 DF,  p-value: < 2.2e-16\n"
      ]
     },
     "metadata": {},
     "output_type": "display_data"
    }
   ],
   "source": [
    "#Procedemos a construir el modelo de regresión con la mejor combinación.\n",
    "mod1 <- ardl(RYLD ~ TSLA + TM + GM, data = train_df, order = c(2,0,0,2))\n",
    "summary(mod1)"
   ]
  },
  {
   "cell_type": "markdown",
   "id": "512ec4c6-f4bb-4872-89ee-c47466fae953",
   "metadata": {},
   "source": [
    "El modelo es globalmente significativo. RYLD tiene efecto autorregresivo negativo del primer rezago, y depende positivamente del segundo rezago. TSLA, TM y GM tienen efectos contemporáneos significativos, el primer rezago de GM es marginalmente significativo, y su segundor rezago tiene un efecto negativo."
   ]
  },
  {
   "cell_type": "code",
   "execution_count": 56,
   "id": "5b8da851-3109-48b7-bb35-c5a8b0ed5514",
   "metadata": {},
   "outputs": [
    {
     "data": {
      "text/plain": [
       "RYLD ~ L(RYLD, 1) + L(RYLD, 2) + TSLA + TM + GM + L(GM, 1) + \n",
       "    L(GM, 2)"
      ]
     },
     "metadata": {},
     "output_type": "display_data"
    }
   ],
   "source": [
    "# Para la interpretación, podemos imprimir los rezagos correspondientes de cada variable que explican la respuesta.\n",
    "mod1$full_formula"
   ]
  },
  {
   "cell_type": "code",
   "execution_count": 58,
   "id": "55764c33-9d76-449e-9266-8268ab41d3a9",
   "metadata": {},
   "outputs": [
    {
     "data": {
      "text/html": [
       "<style>\n",
       ".list-inline {list-style: none; margin:0; padding: 0}\n",
       ".list-inline>li {display: inline-block}\n",
       ".list-inline>li:not(:last-child)::after {content: \"\\00b7\"; padding: 0 .5ex}\n",
       "</style>\n",
       "<ol class=list-inline><li>'dynlm'</li><li>'lm'</li><li>'ardl'</li></ol>\n"
      ],
      "text/latex": [
       "\\begin{enumerate*}\n",
       "\\item 'dynlm'\n",
       "\\item 'lm'\n",
       "\\item 'ardl'\n",
       "\\end{enumerate*}\n"
      ],
      "text/markdown": [
       "1. 'dynlm'\n",
       "2. 'lm'\n",
       "3. 'ardl'\n",
       "\n",
       "\n"
      ],
      "text/plain": [
       "[1] \"dynlm\" \"lm\"    \"ardl\" "
      ]
     },
     "metadata": {},
     "output_type": "display_data"
    },
    {
     "data": {
      "text/html": [
       "<style>\n",
       ".list-inline {list-style: none; margin:0; padding: 0}\n",
       ".list-inline>li {display: inline-block}\n",
       ".list-inline>li:not(:last-child)::after {content: \"\\00b7\"; padding: 0 .5ex}\n",
       "</style>\n",
       "<ol class=list-inline><li>'coefficients'</li><li>'residuals'</li><li>'effects'</li><li>'rank'</li><li>'fitted.values'</li><li>'assign'</li><li>'qr'</li><li>'df.residual'</li><li>'xlevels'</li><li>'call'</li><li>'terms'</li><li>'model'</li><li>'index'</li><li>'frequency'</li><li>'twostage'</li><li>'order'</li><li>'data'</li><li>'parsed_formula'</li><li>'full_formula'</li></ol>\n"
      ],
      "text/latex": [
       "\\begin{enumerate*}\n",
       "\\item 'coefficients'\n",
       "\\item 'residuals'\n",
       "\\item 'effects'\n",
       "\\item 'rank'\n",
       "\\item 'fitted.values'\n",
       "\\item 'assign'\n",
       "\\item 'qr'\n",
       "\\item 'df.residual'\n",
       "\\item 'xlevels'\n",
       "\\item 'call'\n",
       "\\item 'terms'\n",
       "\\item 'model'\n",
       "\\item 'index'\n",
       "\\item 'frequency'\n",
       "\\item 'twostage'\n",
       "\\item 'order'\n",
       "\\item 'data'\n",
       "\\item 'parsed\\_formula'\n",
       "\\item 'full\\_formula'\n",
       "\\end{enumerate*}\n"
      ],
      "text/markdown": [
       "1. 'coefficients'\n",
       "2. 'residuals'\n",
       "3. 'effects'\n",
       "4. 'rank'\n",
       "5. 'fitted.values'\n",
       "6. 'assign'\n",
       "7. 'qr'\n",
       "8. 'df.residual'\n",
       "9. 'xlevels'\n",
       "10. 'call'\n",
       "11. 'terms'\n",
       "12. 'model'\n",
       "13. 'index'\n",
       "14. 'frequency'\n",
       "15. 'twostage'\n",
       "16. 'order'\n",
       "17. 'data'\n",
       "18. 'parsed_formula'\n",
       "19. 'full_formula'\n",
       "\n",
       "\n"
      ],
      "text/plain": [
       " [1] \"coefficients\"   \"residuals\"      \"effects\"        \"rank\"          \n",
       " [5] \"fitted.values\"  \"assign\"         \"qr\"             \"df.residual\"   \n",
       " [9] \"xlevels\"        \"call\"           \"terms\"          \"model\"         \n",
       "[13] \"index\"          \"frequency\"      \"twostage\"       \"order\"         \n",
       "[17] \"data\"           \"parsed_formula\" \"full_formula\"  "
      ]
     },
     "metadata": {},
     "output_type": "display_data"
    }
   ],
   "source": [
    "class(mod1)\n",
    "names(mod1)"
   ]
  },
  {
   "cell_type": "code",
   "execution_count": 61,
   "id": "3f5fb6fc-a188-4e5c-a8a8-428cb65cac03",
   "metadata": {},
   "outputs": [
    {
     "data": {
      "image/png": "[encoded data removed]",
      "text/plain": [
       "plot without title"
      ]
     },
     "metadata": {
      "image/png": {
       "height": 420,
       "width": 420
      }
     },
     "output_type": "display_data"
    }
   ],
   "source": [
    "# Visualización del fit a la serie\n",
    "fitted_vals <- mod1$fitted.values\n",
    "pr_df_adj <- tail(pr_df, length(fitted_vals))  # igualamos las dimensiones, pues por los rezagos, no quedaban dimensiones iguales.\n",
    "\n",
    "pr_df_adj$fitted <- fitted_vals  \n",
    "\n",
    "library(ggplot2)\n",
    "ggplot(pr_df_adj, aes(x = 1:nrow(pr_df_adj))) +\n",
    "  geom_line(aes(y = RYLD, color = \"Original\")) +\n",
    "  geom_line(aes(y = fitted, color = \"Ajustado\")) +\n",
    "  labs(title = \"RYLD: Observado vs Ajustado (ARDL)\",\n",
    "       x = \"Tiempo\",\n",
    "       y = \"RYLD\",\n",
    "       color = \"\") +\n",
    "  theme_minimal()"
   ]
  },
  {
   "cell_type": "markdown",
   "id": "1ae596df-d533-4e42-8635-d2ee50d88468",
   "metadata": {},
   "source": [
    "#### A. Bound test para la verificacion de relaciones a largo término"
   ]
  },
  {
   "cell_type": "code",
   "execution_count": 91,
   "id": "8c67f9e3-2a80-43b7-aff0-2fd5d323a5f3",
   "metadata": {},
   "outputs": [
    {
     "data": {
      "text/plain": [
       "\n",
       "\tBounds F-test (Wald) for no cointegration\n",
       "\n",
       "data:  d(RYLD) ~ L(RYLD, 1) + TSLA + TM + L(GM, 1) + d(L(RYLD, 1)) +     d(GM) + d(L(GM, 1))\n",
       "F = 102.22, p-value = 1e-06\n",
       "alternative hypothesis: Possible cointegration\n",
       "null values:\n",
       "   k    T \n",
       "   3 1000 \n"
      ]
     },
     "metadata": {},
     "output_type": "display_data"
    }
   ],
   "source": [
    "#Guardamos el mejor modelo obtenido en la sección anterior\n",
    "modelo <- models$best_model\n",
    "#Realizamos la prueba de hipotesis: Hipotesis nula: no cointegración\n",
    "bounds_f_test(modelo, case = 2) # el parametro \"case\" igual a 2 verifica si existe relaciones a largo término, con la combinación de (restricted constant o intercepto cte, no linear trend o sin tendencia determinista)."
   ]
  },
  {
   "cell_type": "markdown",
   "id": "a0acfe73-2e0b-4ec5-851b-610d166b0bc8",
   "metadata": {},
   "source": [
    "El estadístico F es muy alto y el valor p extremadamente bajo, lo que indica fuerte evidencia de cointegración. Esto implica que, aunque las series puedan ser no estacionarias individualmente, existe una combinación lineal entre ellas que es estacionaria, por lo que se mueven juntas en el largo plazo."
   ]
  },
  {
   "cell_type": "markdown",
   "id": "ed2f04cb-ef06-4b21-bf42-b2d950964b23",
   "metadata": {},
   "source": [
    "#### B. Mutiplicadores de largo y corto termino"
   ]
  },
  {
   "cell_type": "code",
   "execution_count": 93,
   "id": "ec83595f-0aaf-459a-a8e4-ac518c6e296e",
   "metadata": {},
   "outputs": [
    {
     "data": {
      "text/html": [
       "<table class=\"dataframe\">\n",
       "<caption>A data.frame: 4 × 5</caption>\n",
       "<thead>\n",
       "\t<tr><th></th><th scope=col>Term</th><th scope=col>Estimate</th><th scope=col>Std. Error</th><th scope=col>t value</th><th scope=col>Pr(&gt;|t|)</th></tr>\n",
       "\t<tr><th></th><th scope=col>&lt;chr&gt;</th><th scope=col>&lt;dbl&gt;</th><th scope=col>&lt;dbl&gt;</th><th scope=col>&lt;dbl&gt;</th><th scope=col>&lt;dbl&gt;</th></tr>\n",
       "</thead>\n",
       "<tbody>\n",
       "\t<tr><th scope=row>1</th><td>(Intercept)</td><td>-0.007564596</td><td>0.0068274084</td><td>-1.107975</td><td>2.681772e-01</td></tr>\n",
       "\t<tr><th scope=row>2</th><td>TSLA       </td><td> 0.006406842</td><td>0.0008918694</td><td> 7.183610</td><td>1.452656e-12</td></tr>\n",
       "\t<tr><th scope=row>3</th><td>TM         </td><td> 0.027702750</td><td>0.0034831727</td><td> 7.953309</td><td>5.596722e-15</td></tr>\n",
       "\t<tr><th scope=row>4</th><td>GM         </td><td> 0.092296104</td><td>0.0074004523</td><td>12.471684</td><td>5.633672e-33</td></tr>\n",
       "</tbody>\n",
       "</table>\n"
      ],
      "text/latex": [
       "A data.frame: 4 × 5\n",
       "\\begin{tabular}{r|lllll}\n",
       "  & Term & Estimate & Std. Error & t value & Pr(>\\textbar{}t\\textbar{})\\\\\n",
       "  & <chr> & <dbl> & <dbl> & <dbl> & <dbl>\\\\\n",
       "\\hline\n",
       "\t1 & (Intercept) & -0.007564596 & 0.0068274084 & -1.107975 & 2.681772e-01\\\\\n",
       "\t2 & TSLA        &  0.006406842 & 0.0008918694 &  7.183610 & 1.452656e-12\\\\\n",
       "\t3 & TM          &  0.027702750 & 0.0034831727 &  7.953309 & 5.596722e-15\\\\\n",
       "\t4 & GM          &  0.092296104 & 0.0074004523 & 12.471684 & 5.633672e-33\\\\\n",
       "\\end{tabular}\n"
      ],
      "text/markdown": [
       "\n",
       "A data.frame: 4 × 5\n",
       "\n",
       "| <!--/--> | Term &lt;chr&gt; | Estimate &lt;dbl&gt; | Std. Error &lt;dbl&gt; | t value &lt;dbl&gt; | Pr(&gt;|t|) &lt;dbl&gt; |\n",
       "|---|---|---|---|---|---|\n",
       "| 1 | (Intercept) | -0.007564596 | 0.0068274084 | -1.107975 | 2.681772e-01 |\n",
       "| 2 | TSLA        |  0.006406842 | 0.0008918694 |  7.183610 | 1.452656e-12 |\n",
       "| 3 | TM          |  0.027702750 | 0.0034831727 |  7.953309 | 5.596722e-15 |\n",
       "| 4 | GM          |  0.092296104 | 0.0074004523 | 12.471684 | 5.633672e-33 |\n",
       "\n"
      ],
      "text/plain": [
       "  Term        Estimate     Std. Error   t value   Pr(>|t|)    \n",
       "1 (Intercept) -0.007564596 0.0068274084 -1.107975 2.681772e-01\n",
       "2 TSLA         0.006406842 0.0008918694  7.183610 1.452656e-12\n",
       "3 TM           0.027702750 0.0034831727  7.953309 5.596722e-15\n",
       "4 GM           0.092296104 0.0074004523 12.471684 5.633672e-33"
      ]
     },
     "metadata": {},
     "output_type": "display_data"
    }
   ],
   "source": [
    "#Multiplicadores a corto plazo\n",
    "multipliers(modelo, type = \"sr\")"
   ]
  },
  {
   "cell_type": "markdown",
   "id": "7c2d3683-ab91-4079-8a7c-7d4d4bc2ffb3",
   "metadata": {},
   "source": [
    "En el corto plazo, los rendimientos de RYLD responden positivamente a variaciones contemporáneas en las acciones de TSLA, TM y GM, siendo GM la que ejerce el mayor efecto inmediato, seguida por TM y luego TSLA. Todas estas relaciones son estadísticamente significativas, lo que resalta una alta sensibilidad de RYLD a los movimientos del sector automotriz."
   ]
  },
  {
   "cell_type": "code",
   "execution_count": 94,
   "id": "d40f3905-fe67-4e88-b898-5d603d13daa1",
   "metadata": {},
   "outputs": [
    {
     "data": {
      "text/html": [
       "<table class=\"dataframe\">\n",
       "<caption>A data.frame: 4 × 5</caption>\n",
       "<thead>\n",
       "\t<tr><th></th><th scope=col>Term</th><th scope=col>Estimate</th><th scope=col>Std. Error</th><th scope=col>t value</th><th scope=col>Pr(&gt;|t|)</th></tr>\n",
       "\t<tr><th></th><th scope=col>&lt;chr&gt;</th><th scope=col>&lt;dbl&gt;</th><th scope=col>&lt;dbl&gt;</th><th scope=col>&lt;dbl&gt;</th><th scope=col>&lt;dbl&gt;</th></tr>\n",
       "</thead>\n",
       "<tbody>\n",
       "\t<tr><th scope=row>1</th><td>(Intercept)</td><td>-0.008367317</td><td>0.007546582</td><td>-1.108756</td><td>2.678401e-01</td></tr>\n",
       "\t<tr><th scope=row>2</th><td>TSLA       </td><td> 0.007086707</td><td>0.001035872</td><td> 6.841296</td><td>1.473871e-11</td></tr>\n",
       "\t<tr><th scope=row>3</th><td>TM         </td><td> 0.030642441</td><td>0.004294701</td><td> 7.134942</td><td>2.031390e-12</td></tr>\n",
       "\t<tr><th scope=row>4</th><td>GM         </td><td> 0.093693611</td><td>0.013337503</td><td> 7.024824</td><td>4.307007e-12</td></tr>\n",
       "</tbody>\n",
       "</table>\n"
      ],
      "text/latex": [
       "A data.frame: 4 × 5\n",
       "\\begin{tabular}{r|lllll}\n",
       "  & Term & Estimate & Std. Error & t value & Pr(>\\textbar{}t\\textbar{})\\\\\n",
       "  & <chr> & <dbl> & <dbl> & <dbl> & <dbl>\\\\\n",
       "\\hline\n",
       "\t1 & (Intercept) & -0.008367317 & 0.007546582 & -1.108756 & 2.678401e-01\\\\\n",
       "\t2 & TSLA        &  0.007086707 & 0.001035872 &  6.841296 & 1.473871e-11\\\\\n",
       "\t3 & TM          &  0.030642441 & 0.004294701 &  7.134942 & 2.031390e-12\\\\\n",
       "\t4 & GM          &  0.093693611 & 0.013337503 &  7.024824 & 4.307007e-12\\\\\n",
       "\\end{tabular}\n"
      ],
      "text/markdown": [
       "\n",
       "A data.frame: 4 × 5\n",
       "\n",
       "| <!--/--> | Term &lt;chr&gt; | Estimate &lt;dbl&gt; | Std. Error &lt;dbl&gt; | t value &lt;dbl&gt; | Pr(&gt;|t|) &lt;dbl&gt; |\n",
       "|---|---|---|---|---|---|\n",
       "| 1 | (Intercept) | -0.008367317 | 0.007546582 | -1.108756 | 2.678401e-01 |\n",
       "| 2 | TSLA        |  0.007086707 | 0.001035872 |  6.841296 | 1.473871e-11 |\n",
       "| 3 | TM          |  0.030642441 | 0.004294701 |  7.134942 | 2.031390e-12 |\n",
       "| 4 | GM          |  0.093693611 | 0.013337503 |  7.024824 | 4.307007e-12 |\n",
       "\n"
      ],
      "text/plain": [
       "  Term        Estimate     Std. Error  t value   Pr(>|t|)    \n",
       "1 (Intercept) -0.008367317 0.007546582 -1.108756 2.678401e-01\n",
       "2 TSLA         0.007086707 0.001035872  6.841296 1.473871e-11\n",
       "3 TM           0.030642441 0.004294701  7.134942 2.031390e-12\n",
       "4 GM           0.093693611 0.013337503  7.024824 4.307007e-12"
      ]
     },
     "metadata": {},
     "output_type": "display_data"
    }
   ],
   "source": [
    "#Multiplicadores a largo plazo\n",
    "multipliers(modelo)"
   ]
  },
  {
   "cell_type": "markdown",
   "id": "9c119375-c9f4-457c-b97b-2800110c513a",
   "metadata": {},
   "source": [
    "RYLD mantiene relaciones positivas y estadísticamente significativas a largo plazo con TSLA, TM y GM, siendo GM nuevamente la más influyente, seguida de TM y TSLA. Estos resultados refuerzan los hallazgos del corto plazo, indicando que el comportamiento del rendimiento del bono (RYLD) está estrechamente ligado al desempeño bursátil de los principales fabricantes automotrices, especialmente GM, tanto inmediata como estructuralmente."
   ]
  },
  {
   "cell_type": "markdown",
   "id": "4ad204c3-8741-4803-9f6c-5bcdd7279552",
   "metadata": {},
   "source": [
    "### Predicción"
   ]
  },
  {
   "cell_type": "code",
   "execution_count": 62,
   "id": "1574d70b-e480-4f6f-ac65-59c80ab48156",
   "metadata": {},
   "outputs": [
    {
     "data": {
      "text/plain": [
       "    Point Forecast      Lo 80     Hi 80      Lo 95     Hi 95\n",
       "886   -0.006819523 -0.2433341 0.2296951 -0.3685374 0.3548983\n",
       "887   -0.006819523 -0.2433341 0.2296951 -0.3685374 0.3548983\n",
       "888   -0.006819523 -0.2433341 0.2296951 -0.3685374 0.3548983\n",
       "889   -0.006819523 -0.2433341 0.2296951 -0.3685374 0.3548983\n",
       "890   -0.006819523 -0.2433341 0.2296951 -0.3685374 0.3548983\n",
       "891   -0.006819523 -0.2433341 0.2296951 -0.3685374 0.3548983\n",
       "892   -0.006819523 -0.2433341 0.2296951 -0.3685374 0.3548983\n",
       "893   -0.006819523 -0.2433341 0.2296951 -0.3685374 0.3548983\n",
       "894   -0.006819523 -0.2433341 0.2296951 -0.3685374 0.3548983\n",
       "895   -0.006819523 -0.2433341 0.2296951 -0.3685374 0.3548983\n",
       "896   -0.006819523 -0.2433341 0.2296951 -0.3685374 0.3548983\n",
       "897   -0.006819523 -0.2433341 0.2296951 -0.3685374 0.3548983\n",
       "898   -0.006819523 -0.2433341 0.2296951 -0.3685374 0.3548983\n",
       "899   -0.006819523 -0.2433341 0.2296951 -0.3685374 0.3548983\n",
       "900   -0.006819523 -0.2433341 0.2296951 -0.3685374 0.3548983\n",
       "901   -0.006819523 -0.2433341 0.2296951 -0.3685374 0.3548983\n",
       "902   -0.006819523 -0.2433341 0.2296951 -0.3685374 0.3548983\n",
       "903   -0.006819523 -0.2433341 0.2296951 -0.3685374 0.3548983\n",
       "904   -0.006819523 -0.2433341 0.2296951 -0.3685374 0.3548983\n",
       "905   -0.006819523 -0.2433341 0.2296951 -0.3685374 0.3548983\n",
       "906   -0.006819523 -0.2433341 0.2296951 -0.3685374 0.3548983\n",
       "907   -0.006819523 -0.2433341 0.2296951 -0.3685374 0.3548983\n",
       "908   -0.006819523 -0.2433341 0.2296951 -0.3685374 0.3548983\n",
       "909   -0.006819523 -0.2433341 0.2296951 -0.3685374 0.3548983\n",
       "910   -0.006819523 -0.2433341 0.2296951 -0.3685374 0.3548984\n",
       "911   -0.006819523 -0.2433341 0.2296951 -0.3685374 0.3548984\n",
       "912   -0.006819523 -0.2433341 0.2296951 -0.3685374 0.3548984\n",
       "913   -0.006819523 -0.2433341 0.2296951 -0.3685374 0.3548984\n",
       "914   -0.006819523 -0.2433341 0.2296951 -0.3685374 0.3548984\n",
       "915   -0.006819523 -0.2433341 0.2296951 -0.3685374 0.3548984\n",
       "916   -0.006819523 -0.2433341 0.2296951 -0.3685374 0.3548984\n",
       "917   -0.006819523 -0.2433341 0.2296951 -0.3685374 0.3548984\n",
       "918   -0.006819523 -0.2433341 0.2296951 -0.3685374 0.3548984\n",
       "919   -0.006819523 -0.2433341 0.2296951 -0.3685374 0.3548984\n",
       "920   -0.006819523 -0.2433341 0.2296951 -0.3685374 0.3548984\n",
       "921   -0.006819523 -0.2433341 0.2296951 -0.3685374 0.3548984\n",
       "922   -0.006819523 -0.2433341 0.2296951 -0.3685374 0.3548984\n",
       "923   -0.006819523 -0.2433341 0.2296951 -0.3685374 0.3548984\n",
       "924   -0.006819523 -0.2433341 0.2296951 -0.3685374 0.3548984\n",
       "925   -0.006819523 -0.2433341 0.2296951 -0.3685374 0.3548984\n",
       "926   -0.006819523 -0.2433341 0.2296951 -0.3685374 0.3548984\n",
       "927   -0.006819523 -0.2433341 0.2296951 -0.3685374 0.3548984\n",
       "928   -0.006819523 -0.2433341 0.2296951 -0.3685374 0.3548984\n",
       "929   -0.006819523 -0.2433342 0.2296951 -0.3685374 0.3548984\n",
       "930   -0.006819523 -0.2433342 0.2296951 -0.3685374 0.3548984\n",
       "931   -0.006819523 -0.2433342 0.2296951 -0.3685374 0.3548984\n",
       "932   -0.006819523 -0.2433342 0.2296951 -0.3685374 0.3548984"
      ]
     },
     "metadata": {},
     "output_type": "display_data"
    },
    {
     "data": {
      "image/png": "[encoded data removed]",
      "text/plain": [
       "plot without title"
      ]
     },
     "metadata": {
      "image/png": {
       "height": 420,
       "width": 420
      }
     },
     "output_type": "display_data"
    }
   ],
   "source": [
    "#### Predicción del primer modelo sin tendencia:\n",
    "stats::predict(mod1$fitted.values, 47)\n",
    "\n",
    "autoplot(predict(mod1$fitted.values, h=47))"
   ]
  },
  {
   "cell_type": "markdown",
   "id": "d8aa5872-6f26-492b-885e-918ac8cadcda",
   "metadata": {},
   "source": [
    "**Métricas de desempeño**"
   ]
  },
  {
   "cell_type": "code",
   "execution_count": 73,
   "id": "6a46db41-6243-45ff-8b13-1ccea3a9efa4",
   "metadata": {},
   "outputs": [],
   "source": [
    "# Hacer la predicción\n",
    "h_test <- nrow(test)\n",
    "test_pred_diff <- predict(mod1, n.ahead = h_test)"
   ]
  },
  {
   "cell_type": "code",
   "execution_count": 75,
   "id": "b0160b1f-787c-40a9-bb4a-e00ff36f02db",
   "metadata": {},
   "outputs": [],
   "source": [
    "# Reconstruir niveles desde último valor de entrenamiento\n",
    "last_val <- tail(pr_df$RYLD, 1)\n",
    "pred_test_level <- cumsum(c(last_val, test_pred_diff))[-1]"
   ]
  },
  {
   "cell_type": "code",
   "execution_count": 82,
   "id": "f931e6e2-8dd0-44db-91c9-2aadd65a1fa2",
   "metadata": {},
   "outputs": [],
   "source": [
    "# Emparejar dimensiones\n",
    "real_test <- as.numeric(test$RYLD)\n",
    "pred_level_test <- pred_test_level[1:length(real_test)]"
   ]
  },
  {
   "cell_type": "code",
   "execution_count": 83,
   "id": "9e101df8-9af0-4a71-b6bb-3904aa5f7efa",
   "metadata": {},
   "outputs": [
    {
     "name": "stdout",
     "output_type": "stream",
     "text": [
      "RMSE: 19.95936 \n",
      "MAE: 19.95597 \n",
      "MAPE (%): 103.172 \n",
      "R2: -4624.484 \n"
     ]
    }
   ],
   "source": [
    "real_test <- as.numeric(real_test)\n",
    "pred_level_test <- as.numeric(pred_level_test)\n",
    "\n",
    "rmse <- sqrt(mean((real_test - pred_level_test)^2))\n",
    "mae <- mean(abs(real_test - pred_level_test))\n",
    "mape <- mean(abs((real_test - pred_level_test)/real_test)) * 100\n",
    "\n",
    "ss_res <- sum((real_test - pred_level_test)^2)\n",
    "ss_tot <- sum((real_test - mean(real_test))^2)\n",
    "r2 <- 1 - ss_res/ss_tot\n",
    "\n",
    "cat(\"RMSE:\", rmse, \"\\n\")\n",
    "cat(\"MAE:\", mae, \"\\n\")\n",
    "cat(\"MAPE (%):\", mape, \"\\n\")\n",
    "cat(\"R2:\", r2, \"\\n\")\n"
   ]
  },
  {
   "cell_type": "code",
   "execution_count": 87,
   "id": "db664fbf-e8fb-4b07-afc5-1f3beef2e554",
   "metadata": {},
   "outputs": [
    {
     "data": {
      "image/png": "[encoded data removed]",
      "text/plain": [
       "Plot with title \"Métricas de desempeño RYLD - Modelo ARDL\""
      ]
     },
     "metadata": {
      "image/png": {
       "height": 420,
       "width": 420
      }
     },
     "output_type": "display_data"
    }
   ],
   "source": [
    "# Crear un vector con las métricas\n",
    "metricas <- c(RMSE = rmse, MAE = mae, MAPE = mape, R2 = r2)\n",
    "\n",
    "# Gráfico de barras\n",
    "barplot(metricas,\n",
    "        col = c(\"steelblue\", \"orange\", \"forestgreen\", \"purple\"),\n",
    "        main = \"Métricas de desempeño RYLD - Modelo ARDL\",\n",
    "        ylab = \"Valor\",\n",
    "        ylim = c(0, max(metricas) * 1.2))\n",
    "\n",
    "# Añadir etiquetas con los valores sobre cada barra\n",
    "text(x = seq_along(metricas),\n",
    "     y = metricas,\n",
    "     labels = round(metricas, 3),\n",
    "     pos = 3, cex = 0.8, col = \"black\")"
   ]
  },
  {
   "cell_type": "code",
   "execution_count": 90,
   "id": "3c101607-dca3-4f46-a49e-2e79d62909b6",
   "metadata": {},
   "outputs": [
    {
     "data": {
      "image/png": "[encoded data removed]",
      "text/plain": [
       "plot without title"
      ]
     },
     "metadata": {
      "image/png": {
       "height": 420,
       "width": 420
      }
     },
     "output_type": "display_data"
    }
   ],
   "source": [
    "library(ggplot2)\n",
    "library(gridExtra)\n",
    "library(tidyr)  # Para pivot_longer\n",
    "\n",
    "# Métricas para VAR\n",
    "var_metrics <- data.frame(\n",
    "  Variable = c(\"RYLD\", \"TSLA\", \"TM\", \"GM\"),\n",
    "  MAPE = c(0.01636031, 0.2821014, 0.03750074, 0.07897345),\n",
    "  RMSE = c(0.3698066, 51.67979, 6.559112, 3.316087),\n",
    "  MAE = c(0.318948, 42.33578, 5.37977, 3.054765),\n",
    "  R2 = c(-0.5878642, -1.657756, -1.76465, -1.310598)\n",
    ")\n",
    "\n",
    "# Métricas ARDL solo para RYLD\n",
    "ardl_metrics <- data.frame(\n",
    "  Modelo = c(\"VAR\", \"ARDL\"),\n",
    "  RMSE = c(0.3698066, 19.95936),\n",
    "  MAE = c(0.318948, 19.95597),\n",
    "  MAPE = c(1.636031, 103.172),  # Convertimos MAPE VAR a %\n",
    "  R2 = c(-0.5878642, -4624.484)\n",
    ")\n",
    "\n",
    "# Crear gráficos individuales por métrica para VAR\n",
    "plot_mape <- ggplot(var_metrics, aes(x = Variable, y = MAPE, fill = Variable)) +\n",
    "  geom_bar(stat = \"identity\") +\n",
    "  theme_minimal() +\n",
    "  labs(title = \"VAR - MAPE\", y = \"MAPE\", x = \"\")\n",
    "\n",
    "plot_rmse <- ggplot(var_metrics, aes(x = Variable, y = RMSE, fill = Variable)) +\n",
    "  geom_bar(stat = \"identity\") +\n",
    "  theme_minimal() +\n",
    "  labs(title = \"VAR - RMSE\", y = \"RMSE\", x = \"\")\n",
    "\n",
    "plot_mae <- ggplot(var_metrics, aes(x = Variable, y = MAE, fill = Variable)) +\n",
    "  geom_bar(stat = \"identity\") +\n",
    "  theme_minimal() +\n",
    "  labs(title = \"VAR - MAE\", y = \"MAE\", x = \"\")\n",
    "\n",
    "plot_r2 <- ggplot(var_metrics, aes(x = Variable, y = R2, fill = Variable)) +\n",
    "  geom_bar(stat = \"identity\") +\n",
    "  theme_minimal() +\n",
    "  labs(title = \"VAR - R²\", y = \"R²\", x = \"\")\n",
    "\n",
    "# Preparar datos para gráfico comparativo con todas las métricas\n",
    "ardl_long <- ardl_metrics %>%\n",
    "  pivot_longer(cols = c(\"RMSE\", \"MAE\", \"MAPE\", \"R2\"),\n",
    "               names_to = \"Metrica\",\n",
    "               values_to = \"Valor\")\n",
    "\n",
    "# Gráfico comparativo VAR vs ARDL con todas las métricas\n",
    "plot_compare <- ggplot(ardl_long, aes(x = Modelo, y = Valor, fill = Modelo)) +\n",
    "  geom_bar(stat = \"identity\", position = position_dodge()) +\n",
    "  facet_wrap(~Metrica, scales = \"free_y\") +  # Facet para cada métrica con eje Y independiente\n",
    "  theme_minimal() +\n",
    "  labs(title = \"Comparación VAR vs ARDL para RYLD\", y = \"Valor\", x = \"\")\n",
    "\n",
    "# Mostrar todo junto\n",
    "grid.arrange(plot_mape, plot_rmse, plot_mae, plot_r2, plot_compare, ncol = 2)\n"
   ]
  }
 ],
 "metadata": {
  "kernelspec": {
   "display_name": "R (pronosticos_r_py)",
   "language": "R",
   "name": "r_pronosticos"
  },
  "language_info": {
   "codemirror_mode": "r",
   "file_extension": ".r",
   "mimetype": "text/x-r-source",
   "name": "R",
   "pygments_lexer": "r",
   "version": "4.4.3"
  }
 },
 "nbformat": 4,
 "nbformat_minor": 5
}
